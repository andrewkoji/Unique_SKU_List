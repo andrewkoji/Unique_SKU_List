{
 "cells": [
  {
   "cell_type": "markdown",
   "id": "d4138423",
   "metadata": {},
   "source": [
    "# Strobes and More Master SKU List Report\n",
    "### Master_SKU_list – Notes:\n",
    "- Length of DataFrame: 279,997 rows\n",
    "- Columns: ['CatalogID', 'ProductID', 'SKU', 'Name', 'Labels']\n",
    "\n",
    "Column descriptions are as follows:\n",
    "`CatalogID` – The unique Identifier to each product\n",
    "`ProductID` - The root SKU to every product\n",
    "- SKU - The unique SKU to every combination of options within the website\n",
    "- Name – Name of the product\n",
    "- Labels – The partnumber names that go with each combination of SKUs, joined by an\n",
    "underscore\n",
    "#### Data was requested from the Shift4Shop API, aggregated and prepped for coding process.\n",
    "#### Coding process: The description of the functions used to create the SKUs are below. Please\n",
    "ask if you have any questions.\n",
    "-----Functions used to create SKUs:\n",
    "1) get_tuples_for_all_categories, get_tuples_for_all_labels:\n",
    "These functions get us the partnumbers and featurenames for all the categories associated with\n",
    "each product. The function returns tuples of the partnumber and the sorting number, which in\n",
    "theory is how the partnumbers should be ordered for the SKUs.\n",
    "2) generate_combinations:\n",
    "The combination function generates all combinations of the partnumbers, with consideration of\n",
    "order using the 'sorting' column from the dataframe. The functions creates lists of all the possible\n",
    "outcomes and then returns the largest list as some sets of SKUs come out with 1, 2, or 3\n",
    "options(more options can be added to the function if need be).\n",
    "3) create_combo_dataframe:\n",
    "This is the function that puts all these parts together. It iterates through the dataframe and gets all\n",
    "the labels, partnumbers, and combinations and then appends them to a new dataframe composed\n",
    "of the catalogid, productid, the SKU, and the description of the SKU.\n",
    "\n",
    "#### Checks: Manual SKUs\n",
    "Some of the SKUs were inaccurately ordered according to the website. These were:\n",
    "CatalogIDs: 3483, 4136,4311, 4413, 6174\n",
    "Checks were made against the website to get correct ordering. For the last 4 catalogids, the issue\n",
    "was partnumbers for car models(?) were listed as a second order instead of third. An example is\n",
    "‘MKEZ94’. If possible, I recommend an overwrite in the API to fix future inventory problems.\n",
    "\n",
    "#### Finished with general data cleaning, and length/null checks.\n",
    "\n",
    "#### Products Omitted from dataframe:\n",
    "There were several products that had up to 20 billion combinations due to the number of options\n",
    "and option choices. These were omitted from the dataframe.\n",
    "\n",
    "#### Options not on website/for sale:\n",
    "Products that were not seen from the viewer side on the website were separated for inventory\n",
    "purposes in a different csv. (SKUs_offWebsite.csv). These are kept for records but no SKUs\n",
    "were generated in the Master SKU list. In the API these products were listed as “Hidden” or\n",
    "“NotForSale”\n",
    "\n",
    "#### Columns to CSV: [‘CatalogID’,’SKU’]\n",
    "- CatalogID – The unique Identifier to each product\n",
    "- ProductID - The root SKU to every product\n",
    "\n",
    "#### Questions/Contact Me:\n",
    "- 631-252-1859\n",
    "- Alevinton151@gmail.com"
   ]
  },
  {
   "cell_type": "code",
   "execution_count": null,
   "id": "b6982f76",
   "metadata": {},
   "outputs": [],
   "source": []
  }
 ],
 "metadata": {
  "kernelspec": {
   "display_name": "Python 3 (ipykernel)",
   "language": "python",
   "name": "python3"
  },
  "language_info": {
   "codemirror_mode": {
    "name": "ipython",
    "version": 3
   },
   "file_extension": ".py",
   "mimetype": "text/x-python",
   "name": "python",
   "nbconvert_exporter": "python",
   "pygments_lexer": "ipython3",
   "version": "3.10.9"
  }
 },
 "nbformat": 4,
 "nbformat_minor": 5
}
